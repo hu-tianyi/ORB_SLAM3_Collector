{
 "cells": [
  {
   "cell_type": "code",
   "execution_count": 1,
   "id": "a8bca828",
   "metadata": {},
   "outputs": [],
   "source": [
    "import os\n",
    "import csv\n",
    "import pandas as pd"
   ]
  },
  {
   "cell_type": "code",
   "execution_count": null,
   "id": "030d7244",
   "metadata": {},
   "outputs": [],
   "source": []
  },
  {
   "cell_type": "code",
   "execution_count": 2,
   "id": "85b0b413",
   "metadata": {},
   "outputs": [],
   "source": [
    "sequence_name = \"A1\"\n",
    "\n",
    "# Path to the input CSV file\n",
    "input_csv_file_path = './datasets/{}/camera/data.csv'.format(sequence_name)\n",
    "\n",
    "# Path to the output CSV file\n",
    "output_csv_file_path = './Examples/Monocular/SenseTime_TimeStamps/{}.txt'.format(sequence_name)"
   ]
  },
  {
   "cell_type": "code",
   "execution_count": 3,
   "id": "ac4823a7",
   "metadata": {},
   "outputs": [],
   "source": [
    "# Read the CSV file\n",
    "df = pd.read_csv(input_csv_file_path)"
   ]
  },
  {
   "cell_type": "code",
   "execution_count": 4,
   "id": "4c4dd7b2",
   "metadata": {},
   "outputs": [],
   "source": [
    "# Remove the file extension from the 'FileNames' column\n",
    "df[df.columns[1]] = df[df.columns[1]].str.replace('\\.[^.]+$', '', regex=True)"
   ]
  },
  {
   "cell_type": "code",
   "execution_count": 5,
   "id": "ca74527b",
   "metadata": {},
   "outputs": [],
   "source": [
    "df = df.drop(df.columns[0], axis=1)"
   ]
  },
  {
   "cell_type": "code",
   "execution_count": 6,
   "id": "492e0e74",
   "metadata": {},
   "outputs": [],
   "source": [
    "df.to_csv(output_csv_file_path, index=False, header=None)"
   ]
  },
  {
   "cell_type": "code",
   "execution_count": null,
   "id": "48cac750",
   "metadata": {},
   "outputs": [],
   "source": []
  }
 ],
 "metadata": {
  "kernelspec": {
   "display_name": "Python 3 (ipykernel)",
   "language": "python",
   "name": "python3"
  },
  "language_info": {
   "codemirror_mode": {
    "name": "ipython",
    "version": 3
   },
   "file_extension": ".py",
   "mimetype": "text/x-python",
   "name": "python",
   "nbconvert_exporter": "python",
   "pygments_lexer": "ipython3",
   "version": "3.8.17"
  }
 },
 "nbformat": 4,
 "nbformat_minor": 5
}
